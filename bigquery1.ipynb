{
  "nbformat": 4,
  "nbformat_minor": 0,
  "metadata": {
    "colab": {
      "name": "bigquery1.ipynb",
      "provenance": [],
      "collapsed_sections": []
    },
    "kernelspec": {
      "name": "python3",
      "display_name": "Python 3"
    }
  },
  "cells": [
    {
      "cell_type": "code",
      "metadata": {
        "colab_type": "code",
        "id": "SeTJb51SKs_W",
        "colab": {}
      },
      "source": [
        "from google.colab import auth\n",
        "auth.authenticate_user()\n",
        "print('Authenticated')"
      ],
      "execution_count": null,
      "outputs": []
    },
    {
      "cell_type": "code",
      "metadata": {
        "id": "cBG5MG-JtqCQ",
        "colab_type": "code",
        "colab": {}
      },
      "source": [
        "%%bigquery --project projectname df1\n",
        "select * from dataset1.employees"
      ],
      "execution_count": 5,
      "outputs": []
    },
    {
      "cell_type": "code",
      "metadata": {
        "id": "XZAqKCuKumcU",
        "colab_type": "code",
        "colab": {}
      },
      "source": [
        "df1.tail()\n"
      ],
      "execution_count": null,
      "outputs": []
    }
  ]
}